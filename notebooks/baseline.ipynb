{
 "cells": [
  {
   "cell_type": "code",
   "id": "f99f4cdba61aa0e4",
   "metadata": {
    "ExecuteTime": {
     "end_time": "2025-10-16T13:22:08.784168Z",
     "start_time": "2025-10-16T13:22:01.204216Z"
    }
   },
   "source": [
    "import warnings\n",
    "\n",
    "import numpy as np\n",
    "import pandas as pd\n",
    "import plotly.graph_objects as go\n",
    "from plotly.subplots import make_subplots\n",
    "from sklearn.linear_model import LinearRegression, Ridge\n",
    "from sklearn.metrics import mean_absolute_error, mean_squared_error, r2_score\n",
    "from sklearn.model_selection import train_test_split\n",
    "\n",
    "\n",
    "warnings.filterwarnings(\"ignore\")"
   ],
   "outputs": [
    {
     "ename": "ImportStringError",
     "evalue": "import_string() failed for 'config'. Possible reasons are:\n\n- missing __init__.py in a package;\n- package or module path not included in sys.path;\n- duplicated package or module name taking precedence in sys.path;\n- missing module, class, function or variable;\n\nDebugged import:\n\n- 'config' not found.\n\nOriginal exception:\n\nModuleNotFoundError: No module named 'config'",
     "output_type": "error",
     "traceback": [
      "\u001B[31m---------------------------------------------------------------------------\u001B[39m",
      "\u001B[31mImportStringError\u001B[39m                         Traceback (most recent call last)",
      "\u001B[36mCell\u001B[39m\u001B[36m \u001B[39m\u001B[32mIn[1]\u001B[39m\u001B[32m, line 11\u001B[39m\n\u001B[32m      8\u001B[39m \u001B[38;5;28;01mfrom\u001B[39;00m\u001B[38;5;250m \u001B[39m\u001B[34;01msklearn\u001B[39;00m\u001B[34;01m.\u001B[39;00m\u001B[34;01mmetrics\u001B[39;00m\u001B[38;5;250m \u001B[39m\u001B[38;5;28;01mimport\u001B[39;00m mean_absolute_error, mean_squared_error, r2_score\n\u001B[32m      9\u001B[39m \u001B[38;5;28;01mfrom\u001B[39;00m\u001B[38;5;250m \u001B[39m\u001B[34;01msklearn\u001B[39;00m\u001B[34;01m.\u001B[39;00m\u001B[34;01mmodel_selection\u001B[39;00m\u001B[38;5;250m \u001B[39m\u001B[38;5;28;01mimport\u001B[39;00m train_test_split\n\u001B[32m---> \u001B[39m\u001B[32m11\u001B[39m \u001B[38;5;28;01mfrom\u001B[39;00m\u001B[38;5;250m \u001B[39m\u001B[34;01mapp\u001B[39;00m\u001B[34;01m.\u001B[39;00m\u001B[34;01mutils\u001B[39;00m\u001B[34;01m.\u001B[39;00m\u001B[34;01msettings\u001B[39;00m\u001B[38;5;250m \u001B[39m\u001B[38;5;28;01mimport\u001B[39;00m DATA_FOLDER, RAW_DATA_FILENAME\n\u001B[32m     13\u001B[39m warnings.filterwarnings(\u001B[33m\"\u001B[39m\u001B[33mignore\u001B[39m\u001B[33m\"\u001B[39m)\n",
      "\u001B[36mFile \u001B[39m\u001B[32m~/Projects/salepricepredictor/.venv/lib/python3.12/site-packages/app/__init__.py:4\u001B[39m\n\u001B[32m      1\u001B[39m \u001B[38;5;28;01mfrom\u001B[39;00m\u001B[38;5;250m \u001B[39m\u001B[34;01mflask\u001B[39;00m\u001B[38;5;250m \u001B[39m\u001B[38;5;28;01mimport\u001B[39;00m Flask, render_template\n\u001B[32m      3\u001B[39m app = Flask(\u001B[34m__name__\u001B[39m)\n\u001B[32m----> \u001B[39m\u001B[32m4\u001B[39m \u001B[43mapp\u001B[49m\u001B[43m.\u001B[49m\u001B[43mconfig\u001B[49m\u001B[43m.\u001B[49m\u001B[43mfrom_object\u001B[49m\u001B[43m(\u001B[49m\u001B[33;43m\"\u001B[39;49m\u001B[33;43mconfig\u001B[39;49m\u001B[33;43m\"\u001B[39;49m\u001B[43m)\u001B[49m\n\u001B[32m      6\u001B[39m \u001B[38;5;28;01mfrom\u001B[39;00m\u001B[38;5;250m \u001B[39m\u001B[34;01mapp\u001B[39;00m\u001B[34;01m.\u001B[39;00m\u001B[34;01mmodule_one\u001B[39;00m\u001B[34;01m.\u001B[39;00m\u001B[34;01mcontrollers\u001B[39;00m\u001B[38;5;250m \u001B[39m\u001B[38;5;28;01mimport\u001B[39;00m module_one\n\u001B[32m      8\u001B[39m app.register_blueprint(module_one)\n",
      "\u001B[36mFile \u001B[39m\u001B[32m~/Projects/salepricepredictor/.venv/lib/python3.12/site-packages/flask/config.py:251\u001B[39m, in \u001B[36mConfig.from_object\u001B[39m\u001B[34m(self, obj)\u001B[39m\n\u001B[32m    219\u001B[39m \u001B[38;5;250m\u001B[39m\u001B[33;03m\"\"\"Updates the values from the given object.  An object can be of one\u001B[39;00m\n\u001B[32m    220\u001B[39m \u001B[33;03mof the following two types:\u001B[39;00m\n\u001B[32m    221\u001B[39m \n\u001B[32m   (...)\u001B[39m\u001B[32m    248\u001B[39m \u001B[33;03m:param obj: an import name or object\u001B[39;00m\n\u001B[32m    249\u001B[39m \u001B[33;03m\"\"\"\u001B[39;00m\n\u001B[32m    250\u001B[39m \u001B[38;5;28;01mif\u001B[39;00m \u001B[38;5;28misinstance\u001B[39m(obj, \u001B[38;5;28mstr\u001B[39m):\n\u001B[32m--> \u001B[39m\u001B[32m251\u001B[39m     obj = \u001B[43mimport_string\u001B[49m\u001B[43m(\u001B[49m\u001B[43mobj\u001B[49m\u001B[43m)\u001B[49m\n\u001B[32m    252\u001B[39m \u001B[38;5;28;01mfor\u001B[39;00m key \u001B[38;5;129;01min\u001B[39;00m \u001B[38;5;28mdir\u001B[39m(obj):\n\u001B[32m    253\u001B[39m     \u001B[38;5;28;01mif\u001B[39;00m key.isupper():\n",
      "\u001B[36mFile \u001B[39m\u001B[32m~/Projects/salepricepredictor/.venv/lib/python3.12/site-packages/werkzeug/utils.py:612\u001B[39m, in \u001B[36mimport_string\u001B[39m\u001B[34m(import_name, silent)\u001B[39m\n\u001B[32m    610\u001B[39m \u001B[38;5;28;01mexcept\u001B[39;00m \u001B[38;5;167;01mImportError\u001B[39;00m \u001B[38;5;28;01mas\u001B[39;00m e:\n\u001B[32m    611\u001B[39m     \u001B[38;5;28;01mif\u001B[39;00m \u001B[38;5;129;01mnot\u001B[39;00m silent:\n\u001B[32m--> \u001B[39m\u001B[32m612\u001B[39m         \u001B[38;5;28;01mraise\u001B[39;00m ImportStringError(import_name, e).with_traceback(\n\u001B[32m    613\u001B[39m             sys.exc_info()[\u001B[32m2\u001B[39m]\n\u001B[32m    614\u001B[39m         ) \u001B[38;5;28;01mfrom\u001B[39;00m\u001B[38;5;250m \u001B[39m\u001B[38;5;28;01mNone\u001B[39;00m\n\u001B[32m    616\u001B[39m \u001B[38;5;28;01mreturn\u001B[39;00m \u001B[38;5;28;01mNone\u001B[39;00m\n",
      "\u001B[36mFile \u001B[39m\u001B[32m~/Projects/salepricepredictor/.venv/lib/python3.12/site-packages/werkzeug/utils.py:596\u001B[39m, in \u001B[36mimport_string\u001B[39m\u001B[34m(import_name, silent)\u001B[39m\n\u001B[32m    594\u001B[39m \u001B[38;5;28;01mtry\u001B[39;00m:\n\u001B[32m    595\u001B[39m     \u001B[38;5;28;01mtry\u001B[39;00m:\n\u001B[32m--> \u001B[39m\u001B[32m596\u001B[39m         \u001B[38;5;28;43m__import__\u001B[39;49m\u001B[43m(\u001B[49m\u001B[43mimport_name\u001B[49m\u001B[43m)\u001B[49m\n\u001B[32m    597\u001B[39m     \u001B[38;5;28;01mexcept\u001B[39;00m \u001B[38;5;167;01mImportError\u001B[39;00m:\n\u001B[32m    598\u001B[39m         \u001B[38;5;28;01mif\u001B[39;00m \u001B[33m\"\u001B[39m\u001B[33m.\u001B[39m\u001B[33m\"\u001B[39m \u001B[38;5;129;01mnot\u001B[39;00m \u001B[38;5;129;01min\u001B[39;00m import_name:\n",
      "\u001B[31mImportStringError\u001B[39m: import_string() failed for 'config'. Possible reasons are:\n\n- missing __init__.py in a package;\n- package or module path not included in sys.path;\n- duplicated package or module name taking precedence in sys.path;\n- missing module, class, function or variable;\n\nDebugged import:\n\n- 'config' not found.\n\nOriginal exception:\n\nModuleNotFoundError: No module named 'config'"
     ]
    }
   ],
   "execution_count": 1
  },
  {
   "metadata": {
    "ExecuteTime": {
     "end_time": "2025-10-16T13:22:24.805860Z",
     "start_time": "2025-10-16T13:22:24.779818Z"
    }
   },
   "cell_type": "code",
   "source": [
    "# Load data\n",
    "df = pd.read_csv(DATA_FOLDER / RAW_DATA_FILENAME)\n",
    "print(f\"Shape: {df.shape}\")\n",
    "print(f\"Columns: {df.columns.tolist()[:10]}...\")  # First 10\n",
    "df.head()"
   ],
   "id": "9ae9b7e4ece2ed8d",
   "outputs": [
    {
     "ename": "NameError",
     "evalue": "name 'DATA_FOLDER' is not defined",
     "output_type": "error",
     "traceback": [
      "\u001B[31m---------------------------------------------------------------------------\u001B[39m",
      "\u001B[31mNameError\u001B[39m                                 Traceback (most recent call last)",
      "\u001B[36mCell\u001B[39m\u001B[36m \u001B[39m\u001B[32mIn[2]\u001B[39m\u001B[32m, line 2\u001B[39m\n\u001B[32m      1\u001B[39m \u001B[38;5;66;03m# Load data\u001B[39;00m\n\u001B[32m----> \u001B[39m\u001B[32m2\u001B[39m df = pd.read_csv(\u001B[43mDATA_FOLDER\u001B[49m / RAW_DATA_FILENAME)\n\u001B[32m      3\u001B[39m \u001B[38;5;28mprint\u001B[39m(\u001B[33mf\u001B[39m\u001B[33m\"\u001B[39m\u001B[33mShape: \u001B[39m\u001B[38;5;132;01m{\u001B[39;00mdf.shape\u001B[38;5;132;01m}\u001B[39;00m\u001B[33m\"\u001B[39m)\n\u001B[32m      4\u001B[39m \u001B[38;5;28mprint\u001B[39m(\u001B[33mf\u001B[39m\u001B[33m\"\u001B[39m\u001B[33mColumns: \u001B[39m\u001B[38;5;132;01m{\u001B[39;00mdf.columns.tolist()[:\u001B[32m10\u001B[39m]\u001B[38;5;132;01m}\u001B[39;00m\u001B[33m...\u001B[39m\u001B[33m\"\u001B[39m)  \u001B[38;5;66;03m# First 10\u001B[39;00m\n",
      "\u001B[31mNameError\u001B[39m: name 'DATA_FOLDER' is not defined"
     ]
    }
   ],
   "execution_count": 2
  },
  {
   "metadata": {},
   "cell_type": "code",
   "execution_count": null,
   "source": [
    "# Quick look at target variable\n",
    "df[\"SalePrice\"].describe()"
   ],
   "id": "aca64b0669f74a83",
   "outputs": []
  },
  {
   "metadata": {},
   "cell_type": "code",
   "execution_count": null,
   "source": [
    "\n",
    "# Cell 4: Check missing values (quick overview)\n",
    "missing = df.isnull().sum()\n",
    "missing = missing[missing > 0].sort_values(ascending=False)\n",
    "print(f\"Columns with missing values: {len(missing)}\")\n",
    "print(missing.head(10))"
   ],
   "id": "8e1bb9c871c3b8c3",
   "outputs": []
  },
  {
   "metadata": {},
   "cell_type": "code",
   "execution_count": null,
   "source": [
    "\n",
    "# Cell 5: SIMPLEST POSSIBLE APPROACH - Only use numerical columns\n",
    "# Drop columns with too many missing values\n",
    "# Drop Id column\n",
    "# Drop target from features\n",
    "\n",
    "# Keep only numerical columns\n",
    "numerical_cols = df.select_dtypes(include=[np.number]).columns.tolist()\n",
    "numerical_cols.remove(\"SalePrice\")  # Remove target\n",
    "if \"Id\" in numerical_cols:\n",
    "    numerical_cols.remove(\"Id\")  # Remove ID\n",
    "\n",
    "print(f\"Using {len(numerical_cols)} numerical features\")\n",
    "\n",
    "# Create feature matrix and target\n",
    "X = df[numerical_cols].copy()\n",
    "y = df[\"SalePrice\"].copy()"
   ],
   "id": "9a138d8e912d5755",
   "outputs": []
  },
  {
   "metadata": {},
   "cell_type": "code",
   "execution_count": null,
   "source": [
    "\n",
    "# Cell 6: Simple imputation - fill missing with median\n",
    "X = X.fillna(X.median())\n",
    "\n",
    "print(f\"Final X shape: {X.shape}\")\n",
    "print(f\"Any missing values left? {X.isnull().sum().sum()}\")"
   ],
   "id": "19308637a795e598",
   "outputs": []
  },
  {
   "metadata": {},
   "cell_type": "code",
   "execution_count": null,
   "source": [
    "\n",
    "# Cell 7: Train-test split\n",
    "X_train, X_test, y_train, y_test = train_test_split(\n",
    "    X, y, test_size=0.2, random_state=42\n",
    ")\n",
    "\n",
    "print(f\"Train size: {len(X_train)}\")\n",
    "print(f\"Test size: {len(X_test)}\")"
   ],
   "id": "c5a27a1e0dd7ecf4",
   "outputs": []
  },
  {
   "metadata": {},
   "cell_type": "code",
   "execution_count": null,
   "source": [
    "\n",
    "# Cell 8: Train baseline model - Simple Linear Regression\n",
    "model = LinearRegression()\n",
    "model.fit(X_train, y_train)\n",
    "\n",
    "# Make predictions\n",
    "y_train_pred = model.predict(X_train)\n",
    "y_test_pred = model.predict(X_test)\n",
    "\n",
    "print(\"Model trained!\")\n"
   ],
   "id": "11e233db7a1ae8d2",
   "outputs": []
  },
  {
   "metadata": {},
   "cell_type": "code",
   "execution_count": null,
   "source": [
    "\n",
    "# Cell 9: Evaluate\n",
    "def evaluate(y_true, y_pred, dataset_name):\n",
    "    mae = mean_absolute_error(y_true, y_pred)\n",
    "    rmse = np.sqrt(mean_squared_error(y_true, y_pred))\n",
    "    r2 = r2_score(y_true, y_pred)\n",
    "\n",
    "    print(f\"\\n{dataset_name} Results:\")\n",
    "    print(f\"  MAE:  ${mae:,.2f}\")\n",
    "    print(f\"  RMSE: ${rmse:,.2f}\")\n",
    "    print(f\"  R²:   {r2:.4f}\")\n",
    "    return mae, rmse, r2\n",
    "\n",
    "\n",
    "train_results = evaluate(y_train, y_train_pred, \"TRAIN\")\n",
    "test_results = evaluate(y_test, y_test_pred, \"TEST\")"
   ],
   "id": "85ea9638448ca948",
   "outputs": []
  },
  {
   "metadata": {},
   "cell_type": "code",
   "execution_count": null,
   "source": [
    "\n",
    "# Cell 10: Visualize predictions\n",
    "residuals = y_test - y_test_pred\n",
    "\n",
    "# Create subplots with plotly\n",
    "fig = make_subplots(\n",
    "    rows=1, cols=2,\n",
    "    subplot_titles=(\"Predictions vs Actual\", \"Residual Plot\")\n",
    ")\n",
    "\n",
    "# Left plot: Predictions vs Actual\n",
    "fig.add_trace(\n",
    "    go.Scatter(\n",
    "        x=y_test,\n",
    "        y=y_test_pred,\n",
    "        mode='markers',\n",
    "        marker=dict(color='blue', opacity=0.5),\n",
    "        name='Predictions'\n",
    "    ),\n",
    "    row=1, col=1\n",
    ")\n",
    "\n",
    "# Add perfect prediction line\n",
    "min_val = y_test.min()\n",
    "max_val = y_test.max()\n",
    "fig.add_trace(\n",
    "    go.Scatter(\n",
    "        x=[min_val, max_val],\n",
    "        y=[min_val, max_val],\n",
    "        mode='lines',\n",
    "        line=dict(color='red', dash='dash', width=2),\n",
    "        name='Perfect Prediction'\n",
    "    ),\n",
    "    row=1, col=1\n",
    ")\n",
    "\n",
    "# Right plot: Residuals\n",
    "fig.add_trace(\n",
    "    go.Scatter(\n",
    "        x=y_test_pred,\n",
    "        y=residuals,\n",
    "        mode='markers',\n",
    "        marker=dict(color='blue', opacity=0.5),\n",
    "        name='Residuals'\n",
    "    ),\n",
    "    row=1, col=2\n",
    ")\n",
    "\n",
    "# Add zero line\n",
    "fig.add_trace(\n",
    "    go.Scatter(\n",
    "        x=[y_test_pred.min(), y_test_pred.max()],\n",
    "        y=[0, 0],\n",
    "        mode='lines',\n",
    "        line=dict(color='red', dash='dash', width=2),\n",
    "        name='Zero Line'\n",
    "    ),\n",
    "    row=1, col=2\n",
    ")\n",
    "\n",
    "# Update axes labels\n",
    "fig.update_xaxes(title_text=\"Actual Price\", row=1, col=1)\n",
    "fig.update_yaxes(title_text=\"Predicted Price\", row=1, col=1)\n",
    "fig.update_xaxes(title_text=\"Predicted Price\", row=1, col=2)\n",
    "fig.update_yaxes(title_text=\"Residuals\", row=1, col=2)\n",
    "\n",
    "# Update layout\n",
    "fig.update_layout(\n",
    "    height=500,\n",
    "    width=1200,\n",
    "    showlegend=True,\n",
    "    title_text=\"Baseline Model Results\"\n",
    ")\n",
    "\n",
    "fig.show()"
   ],
   "id": "3f159a644f8723a8",
   "outputs": []
  },
  {
   "metadata": {},
   "cell_type": "code",
   "execution_count": null,
   "source": [
    "\n",
    "# Cell 11: Check for overfitting\n",
    "print(\"\\nOverfitting Check:\")\n",
    "print(f\"Train R²: {train_results[2]:.4f}\")\n",
    "print(f\"Test R²:  {test_results[2]:.4f}\")\n",
    "print(f\"Difference: {train_results[2] - test_results[2]:.4f}\")\n",
    "\n",
    "if train_results[2] - test_results[2] > 0.1:\n",
    "    print(\"⚠️  Possible overfitting detected!\")\n",
    "else:\n",
    "    print(\"✅ No significant overfitting\")"
   ],
   "id": "becfc345259b45f1",
   "outputs": []
  },
  {
   "metadata": {},
   "cell_type": "code",
   "outputs": [],
   "execution_count": null,
   "source": [
    "\n",
    "# Cell 12: Save results for comparison\n",
    "results = {\n",
    "    \"model\": \"LinearRegression\",\n",
    "    \"features\": \"numerical_only\",\n",
    "    \"n_features\": len(numerical_cols),\n",
    "    \"train_mae\": train_results[0],\n",
    "    \"test_mae\": test_results[0],\n",
    "    \"train_r2\": train_results[2],\n",
    "    \"test_r2\": test_results[2],\n",
    "}\n",
    "\n",
    "print(\"\\n📊 BASELINE RESULTS:\")\n",
    "for key, value in results.items():\n",
    "    print(f\"  {key}: {value}\")\n"
   ],
   "id": "initial_id"
  }
 ],
 "metadata": {
  "kernelspec": {
   "display_name": "Python 3",
   "language": "python",
   "name": "python3"
  },
  "language_info": {
   "codemirror_mode": {
    "name": "ipython",
    "version": 2
   },
   "file_extension": ".py",
   "mimetype": "text/x-python",
   "name": "python",
   "nbconvert_exporter": "python",
   "pygments_lexer": "ipython2",
   "version": "2.7.6"
  }
 },
 "nbformat": 4,
 "nbformat_minor": 5
}
