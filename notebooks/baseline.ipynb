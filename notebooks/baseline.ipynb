{
 "cells": [
  {
   "cell_type": "code",
   "execution_count": 25,
   "id": "f99f4cdba61aa0e4",
   "metadata": {
    "ExecuteTime": {
     "end_time": "2025-10-16T13:38:04.986884Z",
     "start_time": "2025-10-16T13:38:04.983275Z"
    }
   },
   "outputs": [],
   "source": [
    "import warnings\n",
    "\n",
    "import numpy as np\n",
    "import pandas as pd\n",
    "import plotly.graph_objects as go\n",
    "from plotly.subplots import make_subplots\n",
    "from sklearn.linear_model import LinearRegression\n",
    "from sklearn.metrics import mean_absolute_error, mean_squared_error, r2_score\n",
    "from sklearn.model_selection import train_test_split\n",
    "\n",
    "from src.config import RAW_DATA_DIR\n",
    "\n",
    "warnings.filterwarnings(\"ignore\")"
   ]
  },
  {
   "cell_type": "code",
   "execution_count": 29,
   "id": "9ae9b7e4ece2ed8d",
   "metadata": {
    "ExecuteTime": {
     "end_time": "2025-10-16T13:38:43.965689Z",
     "start_time": "2025-10-16T13:38:43.935339Z"
    }
   },
   "outputs": [
    {
     "name": "stdout",
     "output_type": "stream",
     "text": [
      "Shape: (1460, 81)\n",
      "Columns: ['Id', 'MSSubClass', 'MSZoning', 'LotFrontage', 'LotArea', 'Street', 'Alley', 'LotShape', 'LandContour', 'Utilities']...\n"
     ]
    },
    {
     "data": {
      "text/html": [
       "<div>\n",
       "<style scoped>\n",
       "    .dataframe tbody tr th:only-of-type {\n",
       "        vertical-align: middle;\n",
       "    }\n",
       "\n",
       "    .dataframe tbody tr th {\n",
       "        vertical-align: top;\n",
       "    }\n",
       "\n",
       "    .dataframe thead th {\n",
       "        text-align: right;\n",
       "    }\n",
       "</style>\n",
       "<table border=\"1\" class=\"dataframe\">\n",
       "  <thead>\n",
       "    <tr style=\"text-align: right;\">\n",
       "      <th></th>\n",
       "      <th>Id</th>\n",
       "      <th>MSSubClass</th>\n",
       "      <th>MSZoning</th>\n",
       "      <th>LotFrontage</th>\n",
       "      <th>LotArea</th>\n",
       "      <th>Street</th>\n",
       "      <th>Alley</th>\n",
       "      <th>LotShape</th>\n",
       "      <th>LandContour</th>\n",
       "      <th>Utilities</th>\n",
       "      <th>...</th>\n",
       "      <th>PoolArea</th>\n",
       "      <th>PoolQC</th>\n",
       "      <th>Fence</th>\n",
       "      <th>MiscFeature</th>\n",
       "      <th>MiscVal</th>\n",
       "      <th>MoSold</th>\n",
       "      <th>YrSold</th>\n",
       "      <th>SaleType</th>\n",
       "      <th>SaleCondition</th>\n",
       "      <th>SalePrice</th>\n",
       "    </tr>\n",
       "  </thead>\n",
       "  <tbody>\n",
       "    <tr>\n",
       "      <th>0</th>\n",
       "      <td>1</td>\n",
       "      <td>60</td>\n",
       "      <td>RL</td>\n",
       "      <td>65.0</td>\n",
       "      <td>8450</td>\n",
       "      <td>Pave</td>\n",
       "      <td>NaN</td>\n",
       "      <td>Reg</td>\n",
       "      <td>Lvl</td>\n",
       "      <td>AllPub</td>\n",
       "      <td>...</td>\n",
       "      <td>0</td>\n",
       "      <td>NaN</td>\n",
       "      <td>NaN</td>\n",
       "      <td>NaN</td>\n",
       "      <td>0</td>\n",
       "      <td>2</td>\n",
       "      <td>2008</td>\n",
       "      <td>WD</td>\n",
       "      <td>Normal</td>\n",
       "      <td>208500</td>\n",
       "    </tr>\n",
       "    <tr>\n",
       "      <th>1</th>\n",
       "      <td>2</td>\n",
       "      <td>20</td>\n",
       "      <td>RL</td>\n",
       "      <td>80.0</td>\n",
       "      <td>9600</td>\n",
       "      <td>Pave</td>\n",
       "      <td>NaN</td>\n",
       "      <td>Reg</td>\n",
       "      <td>Lvl</td>\n",
       "      <td>AllPub</td>\n",
       "      <td>...</td>\n",
       "      <td>0</td>\n",
       "      <td>NaN</td>\n",
       "      <td>NaN</td>\n",
       "      <td>NaN</td>\n",
       "      <td>0</td>\n",
       "      <td>5</td>\n",
       "      <td>2007</td>\n",
       "      <td>WD</td>\n",
       "      <td>Normal</td>\n",
       "      <td>181500</td>\n",
       "    </tr>\n",
       "    <tr>\n",
       "      <th>2</th>\n",
       "      <td>3</td>\n",
       "      <td>60</td>\n",
       "      <td>RL</td>\n",
       "      <td>68.0</td>\n",
       "      <td>11250</td>\n",
       "      <td>Pave</td>\n",
       "      <td>NaN</td>\n",
       "      <td>IR1</td>\n",
       "      <td>Lvl</td>\n",
       "      <td>AllPub</td>\n",
       "      <td>...</td>\n",
       "      <td>0</td>\n",
       "      <td>NaN</td>\n",
       "      <td>NaN</td>\n",
       "      <td>NaN</td>\n",
       "      <td>0</td>\n",
       "      <td>9</td>\n",
       "      <td>2008</td>\n",
       "      <td>WD</td>\n",
       "      <td>Normal</td>\n",
       "      <td>223500</td>\n",
       "    </tr>\n",
       "    <tr>\n",
       "      <th>3</th>\n",
       "      <td>4</td>\n",
       "      <td>70</td>\n",
       "      <td>RL</td>\n",
       "      <td>60.0</td>\n",
       "      <td>9550</td>\n",
       "      <td>Pave</td>\n",
       "      <td>NaN</td>\n",
       "      <td>IR1</td>\n",
       "      <td>Lvl</td>\n",
       "      <td>AllPub</td>\n",
       "      <td>...</td>\n",
       "      <td>0</td>\n",
       "      <td>NaN</td>\n",
       "      <td>NaN</td>\n",
       "      <td>NaN</td>\n",
       "      <td>0</td>\n",
       "      <td>2</td>\n",
       "      <td>2006</td>\n",
       "      <td>WD</td>\n",
       "      <td>Abnorml</td>\n",
       "      <td>140000</td>\n",
       "    </tr>\n",
       "    <tr>\n",
       "      <th>4</th>\n",
       "      <td>5</td>\n",
       "      <td>60</td>\n",
       "      <td>RL</td>\n",
       "      <td>84.0</td>\n",
       "      <td>14260</td>\n",
       "      <td>Pave</td>\n",
       "      <td>NaN</td>\n",
       "      <td>IR1</td>\n",
       "      <td>Lvl</td>\n",
       "      <td>AllPub</td>\n",
       "      <td>...</td>\n",
       "      <td>0</td>\n",
       "      <td>NaN</td>\n",
       "      <td>NaN</td>\n",
       "      <td>NaN</td>\n",
       "      <td>0</td>\n",
       "      <td>12</td>\n",
       "      <td>2008</td>\n",
       "      <td>WD</td>\n",
       "      <td>Normal</td>\n",
       "      <td>250000</td>\n",
       "    </tr>\n",
       "  </tbody>\n",
       "</table>\n",
       "<p>5 rows × 81 columns</p>\n",
       "</div>"
      ],
      "text/plain": [
       "   Id  MSSubClass MSZoning  LotFrontage  LotArea Street Alley LotShape  \\\n",
       "0   1          60       RL         65.0     8450   Pave   NaN      Reg   \n",
       "1   2          20       RL         80.0     9600   Pave   NaN      Reg   \n",
       "2   3          60       RL         68.0    11250   Pave   NaN      IR1   \n",
       "3   4          70       RL         60.0     9550   Pave   NaN      IR1   \n",
       "4   5          60       RL         84.0    14260   Pave   NaN      IR1   \n",
       "\n",
       "  LandContour Utilities  ... PoolArea PoolQC Fence MiscFeature MiscVal MoSold  \\\n",
       "0         Lvl    AllPub  ...        0    NaN   NaN         NaN       0      2   \n",
       "1         Lvl    AllPub  ...        0    NaN   NaN         NaN       0      5   \n",
       "2         Lvl    AllPub  ...        0    NaN   NaN         NaN       0      9   \n",
       "3         Lvl    AllPub  ...        0    NaN   NaN         NaN       0      2   \n",
       "4         Lvl    AllPub  ...        0    NaN   NaN         NaN       0     12   \n",
       "\n",
       "  YrSold  SaleType  SaleCondition  SalePrice  \n",
       "0   2008        WD         Normal     208500  \n",
       "1   2007        WD         Normal     181500  \n",
       "2   2008        WD         Normal     223500  \n",
       "3   2006        WD        Abnorml     140000  \n",
       "4   2008        WD         Normal     250000  \n",
       "\n",
       "[5 rows x 81 columns]"
      ]
     },
     "execution_count": 29,
     "metadata": {},
     "output_type": "execute_result"
    }
   ],
   "source": [
    "# Load data\n",
    "df = pd.read_csv(RAW_DATA_DIR / \"raw.csv\")\n",
    "print(f\"Shape: {df.shape}\")\n",
    "print(f\"Columns: {df.columns.tolist()[:10]}...\")  # First 10\n",
    "df.head()"
   ]
  },
  {
   "cell_type": "code",
   "execution_count": 30,
   "id": "aca64b0669f74a83",
   "metadata": {
    "ExecuteTime": {
     "end_time": "2025-10-16T13:38:43.987056Z",
     "start_time": "2025-10-16T13:38:43.978665Z"
    }
   },
   "outputs": [
    {
     "data": {
      "text/plain": [
       "count      1460.000000\n",
       "mean     180921.195890\n",
       "std       79442.502883\n",
       "min       34900.000000\n",
       "25%      129975.000000\n",
       "50%      163000.000000\n",
       "75%      214000.000000\n",
       "max      755000.000000\n",
       "Name: SalePrice, dtype: float64"
      ]
     },
     "execution_count": 30,
     "metadata": {},
     "output_type": "execute_result"
    }
   ],
   "source": [
    "# Quick look at target variable\n",
    "df[\"SalePrice\"].describe()"
   ]
  },
  {
   "cell_type": "code",
   "execution_count": 31,
   "id": "8e1bb9c871c3b8c3",
   "metadata": {
    "ExecuteTime": {
     "end_time": "2025-10-16T13:38:44.044053Z",
     "start_time": "2025-10-16T13:38:44.035978Z"
    }
   },
   "outputs": [
    {
     "name": "stdout",
     "output_type": "stream",
     "text": [
      "Columns with missing values: 19\n",
      "PoolQC          1453\n",
      "MiscFeature     1406\n",
      "Alley           1369\n",
      "Fence           1179\n",
      "MasVnrType       872\n",
      "FireplaceQu      690\n",
      "LotFrontage      259\n",
      "GarageType        81\n",
      "GarageYrBlt       81\n",
      "GarageFinish      81\n",
      "dtype: int64\n"
     ]
    }
   ],
   "source": [
    "# Check missing values (quick overview)\n",
    "missing = df.isnull().sum()\n",
    "missing = missing[missing > 0].sort_values(ascending=False)\n",
    "print(f\"Columns with missing values: {len(missing)}\")\n",
    "print(missing.head(10))"
   ]
  },
  {
   "cell_type": "code",
   "execution_count": 32,
   "id": "9a138d8e912d5755",
   "metadata": {
    "ExecuteTime": {
     "end_time": "2025-10-16T13:38:44.093913Z",
     "start_time": "2025-10-16T13:38:44.089034Z"
    }
   },
   "outputs": [
    {
     "name": "stdout",
     "output_type": "stream",
     "text": [
      "Using 36 numerical features\n"
     ]
    }
   ],
   "source": [
    "# SIMPLEST POSSIBLE APPROACH - Only use numerical columns\n",
    "# Drop columns with too many missing values\n",
    "# Drop Id column\n",
    "# Drop target from features\n",
    "\n",
    "# Keep only numerical columns\n",
    "numerical_cols = df.select_dtypes(include=[np.number]).columns.tolist()\n",
    "numerical_cols.remove(\"SalePrice\")  # Remove target\n",
    "if \"Id\" in numerical_cols:\n",
    "    numerical_cols.remove(\"Id\")  # Remove ID\n",
    "\n",
    "print(f\"Using {len(numerical_cols)} numerical features\")\n",
    "\n",
    "# Create feature matrix and target\n",
    "X = df[numerical_cols].copy()\n",
    "y = df[\"SalePrice\"].copy()"
   ]
  },
  {
   "cell_type": "code",
   "execution_count": 33,
   "id": "19308637a795e598",
   "metadata": {
    "ExecuteTime": {
     "end_time": "2025-10-16T13:38:44.154698Z",
     "start_time": "2025-10-16T13:38:44.138954Z"
    }
   },
   "outputs": [
    {
     "name": "stdout",
     "output_type": "stream",
     "text": [
      "Final X shape: (1460, 36)\n",
      "Any missing values left? 0\n"
     ]
    }
   ],
   "source": [
    "# Simple imputation - fill missing with median\n",
    "X = X.fillna(X.median())\n",
    "\n",
    "print(f\"Final X shape: {X.shape}\")\n",
    "print(f\"Any missing values left? {X.isnull().sum().sum()}\")"
   ]
  },
  {
   "cell_type": "code",
   "execution_count": 34,
   "id": "c5a27a1e0dd7ecf4",
   "metadata": {
    "ExecuteTime": {
     "end_time": "2025-10-16T13:38:44.196820Z",
     "start_time": "2025-10-16T13:38:44.187132Z"
    }
   },
   "outputs": [
    {
     "name": "stdout",
     "output_type": "stream",
     "text": [
      "Train size: 1168\n",
      "Test size: 292\n"
     ]
    }
   ],
   "source": [
    "# Train-test split\n",
    "X_train, X_test, y_train, y_test = train_test_split(X, y, test_size=0.2, random_state=42)\n",
    "\n",
    "print(f\"Train size: {len(X_train)}\")\n",
    "print(f\"Test size: {len(X_test)}\")"
   ]
  },
  {
   "cell_type": "code",
   "execution_count": 35,
   "id": "11e233db7a1ae8d2",
   "metadata": {
    "ExecuteTime": {
     "end_time": "2025-10-16T13:38:44.266388Z",
     "start_time": "2025-10-16T13:38:44.248959Z"
    }
   },
   "outputs": [
    {
     "name": "stdout",
     "output_type": "stream",
     "text": [
      "Model trained!\n"
     ]
    }
   ],
   "source": [
    "# Train baseline model - Simple Linear Regression\n",
    "model = LinearRegression()\n",
    "model.fit(X_train, y_train)\n",
    "\n",
    "# Make predictions\n",
    "y_train_pred = model.predict(X_train)\n",
    "y_test_pred = model.predict(X_test)\n",
    "\n",
    "print(\"Model trained!\")"
   ]
  },
  {
   "cell_type": "code",
   "execution_count": 36,
   "id": "85ea9638448ca948",
   "metadata": {
    "ExecuteTime": {
     "end_time": "2025-10-16T13:38:44.316249Z",
     "start_time": "2025-10-16T13:38:44.306261Z"
    }
   },
   "outputs": [
    {
     "name": "stdout",
     "output_type": "stream",
     "text": [
      "\n",
      "TRAIN Results:\n",
      "  MAE:  $21,066.67\n",
      "  RMSE: $33,920.14\n",
      "  R²:   0.8071\n",
      "\n",
      "TEST Results:\n",
      "  MAE:  $22,975.86\n",
      "  RMSE: $36,836.91\n",
      "  R²:   0.8231\n"
     ]
    }
   ],
   "source": [
    "# Evaluate\n",
    "def evaluate(y_true, y_pred, dataset_name):\n",
    "    mae = mean_absolute_error(y_true, y_pred)\n",
    "    rmse = np.sqrt(mean_squared_error(y_true, y_pred))\n",
    "    r2 = r2_score(y_true, y_pred)\n",
    "\n",
    "    print(f\"\\n{dataset_name} Results:\")\n",
    "    print(f\"  MAE:  ${mae:,.2f}\")\n",
    "    print(f\"  RMSE: ${rmse:,.2f}\")\n",
    "    print(f\"  R²:   {r2:.4f}\")\n",
    "    return mae, rmse, r2\n",
    "\n",
    "\n",
    "train_results = evaluate(y_train, y_train_pred, \"TRAIN\")\n",
    "test_results = evaluate(y_test, y_test_pred, \"TEST\")"
   ]
  },
  {
   "cell_type": "code",
   "execution_count": 37,
   "id": "3f159a644f8723a8",
   "metadata": {
    "ExecuteTime": {
     "end_time": "2025-10-16T13:38:44.401486Z",
     "start_time": "2025-10-16T13:38:44.357154Z"
    }
   },
   "outputs": [
    {
     "data": {
      "application/vnd.plotly.v1+json": {
       "config": {
        "plotlyServerURL": "https://plot.ly"
       },
       "data": [
        {
         "marker": {
          "color": "blue",
          "opacity": 0.5
         },
         "mode": "markers",
         "name": "Predictions",
         "type": "scatter",
         "x": {
          "bdata": "hFsCAIj1BAA4wQEAGG0CAGzQBADsJgEAzMAEAFA6AgAUSgEATBECAGg2AgDQ+wEAaDwBAPBDAwAIwwIAZA0CAMzMAgBYDwIAgM4BANByAwB4XQIAUDQDALylAgDo9wEAAO4CACxZAgCOwwIAyCYCAAjDAgAEMAMAGPABAGBVBAA0DwMARhICABjkAwDgIgIAEBsCAGxZAwDwugQA6HoBAES/AQDIIAMAzNIBAG3dAwD09QEA/MoBADjBAQAY8AEAbuUGAIAyAgDY0AEAoP0CADjBAQAYYQQAdDQCAKD3AwAIQAMAmKsCAPihAQDsowEAlAsBAJBZAgBI1gQAxAcEAEdTBAA4tQMAyKkBAGinBAA8bQEAgK8CAErQAQBwCwIA0KkBADxtAQBJVQkAyKMCAGBPBQAINAUAyCYCAOTnAQDwzAEAuAUBAGi5AQCkZAEA/EcCAIgHAgAQDwQAMOYCAPxgAgC7YAIAnFcCAMBRAgBU5gEAyJcEADQVAgAGmAIAyCADAFzOAgBkIAMAoPcDAKx+AgCEbgMAILkDAKADAgDQ9QIAVGMCAGBhAgA4MgQAaDYCAFgPAgBg6gAAYOQBABjwAQAcGQIA/EEDANjQAQB8pQEAeOABAIC1AQBgVQQAiAcCAAhGAgAolAIAmCgDAJirAgAoFwIA4JkDAIw2AQCAMgIAVHwCACzWAgDspAUADAUDAECWAQDviQAAXCYFAL6aBQDK/AEAcIIDADiFCwA4JgYAoAMCAFC3AgA0FQIAaDYCAHjgAQCQ0AMA3NoCAAwLAgC4BQEAHBkCAHhdAgCwDwMAvFoCAHhjAQBAEwIAn6kBAOAiAgDwTwEASAECALy+AgCAMgIA1XgEAHQ0AgDkzgEAyCYCAJilAwAgNgQAJX4IALC6AwBAfgUAIJMBAHCOAQDYTQIASFkEACANAgBouQEAbNwCADzqAQBctQIAvL4CALnaAACUBQIAWA8CABjkAwDgIgIAmCIEADLDAwAEFwMA+CQBAITeAQDApwEAAHECAPibAgCg/QIA6G4DAIgBAwBAnAAA1KECABRdAgDARQQAmKsCADg+AgB4zgQAqNICAEwRAgCMpwMA+B4CAOAiAgCwrQEA6G4DAIwwAgC29wEA1KECAFyvAwBkAQQAmfYCAJguAgDQ+wEAMOwBAKQsAgAw4AMAnFEDAMQDAQAoEQMAeF0CADALAQD0+wAAyKMCAHiRAQCkSwEA4IYCAMDUAQBYDwIAYFsDAOdXAgBI+wIAOD4CAAg6BACYLgIArJ0BAFCxAwDE9wIA/LEGAKjSAgDsowEAiIQCAICvAgBs+wEAOMEBAIzuAgAAcQIAaDYCAPBPAQAwaQIADPIBADjBAQDM0gEAHK8CAICpAwD4BgYAiIQCAMj0AQA4MgQAQMIEAPBDAwCcVwIAgDICADjBAQAgvwIAaBgHACC/AgBI3AMACEwBAKiNAQAURAIAHBkCAG3aBACYLgIA4CICAPTvAgBgZwEAiAEDALyrAQAoiAQAltUCAHCCAwB/XQEAoPcDAEjiAgDgpQEAVOYBAA==",
          "dtype": "i4"
         },
         "xaxis": "x",
         "y": {
          "bdata": "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",
          "dtype": "f8"
         },
         "yaxis": "y"
        },
        {
         "line": {
          "color": "red",
          "dash": "dash",
          "width": 2
         },
         "mode": "lines",
         "name": "Perfect Prediction",
         "type": "scatter",
         "x": [
          35311,
          755000
         ],
         "xaxis": "x",
         "y": [
          35311,
          755000
         ],
         "yaxis": "y"
        },
        {
         "marker": {
          "color": "blue",
          "opacity": 0.5
         },
         "mode": "markers",
         "name": "Residuals",
         "type": "scatter",
         "x": {
          "bdata": "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",
          "dtype": "f8"
         },
         "xaxis": "x2",
         "y": {
          "bdata": "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",
          "dtype": "f8"
         },
         "yaxis": "y2"
        },
        {
         "line": {
          "color": "red",
          "dash": "dash",
          "width": 2
         },
         "mode": "lines",
         "name": "Zero Line",
         "type": "scatter",
         "x": [
          20538.54492646581,
          464989.3488597382
         ],
         "xaxis": "x2",
         "y": [
          0,
          0
         ],
         "yaxis": "y2"
        }
       ],
       "layout": {
        "annotations": [
         {
          "font": {
           "size": 16
          },
          "showarrow": false,
          "text": "Predictions vs Actual",
          "x": 0.225,
          "xanchor": "center",
          "xref": "paper",
          "y": 1.0,
          "yanchor": "bottom",
          "yref": "paper"
         },
         {
          "font": {
           "size": 16
          },
          "showarrow": false,
          "text": "Residual Plot",
          "x": 0.775,
          "xanchor": "center",
          "xref": "paper",
          "y": 1.0,
          "yanchor": "bottom",
          "yref": "paper"
         }
        ],
        "height": 500,
        "showlegend": true,
        "template": {
         "data": {
          "bar": [
           {
            "error_x": {
             "color": "#f2f5fa"
            },
            "error_y": {
             "color": "#f2f5fa"
            },
            "marker": {
             "line": {
              "color": "rgb(17,17,17)",
              "width": 0.5
             },
             "pattern": {
              "fillmode": "overlay",
              "size": 10,
              "solidity": 0.2
             }
            },
            "type": "bar"
           }
          ],
          "barpolar": [
           {
            "marker": {
             "line": {
              "color": "rgb(17,17,17)",
              "width": 0.5
             },
             "pattern": {
              "fillmode": "overlay",
              "size": 10,
              "solidity": 0.2
             }
            },
            "type": "barpolar"
           }
          ],
          "carpet": [
           {
            "aaxis": {
             "endlinecolor": "#A2B1C6",
             "gridcolor": "#506784",
             "linecolor": "#506784",
             "minorgridcolor": "#506784",
             "startlinecolor": "#A2B1C6"
            },
            "baxis": {
             "endlinecolor": "#A2B1C6",
             "gridcolor": "#506784",
             "linecolor": "#506784",
             "minorgridcolor": "#506784",
             "startlinecolor": "#A2B1C6"
            },
            "type": "carpet"
           }
          ],
          "choropleth": [
           {
            "colorbar": {
             "outlinewidth": 0,
             "ticks": ""
            },
            "type": "choropleth"
           }
          ],
          "contour": [
           {
            "colorbar": {
             "outlinewidth": 0,
             "ticks": ""
            },
            "colorscale": [
             [
              0.0,
              "#0d0887"
             ],
             [
              0.1111111111111111,
              "#46039f"
             ],
             [
              0.2222222222222222,
              "#7201a8"
             ],
             [
              0.3333333333333333,
              "#9c179e"
             ],
             [
              0.4444444444444444,
              "#bd3786"
             ],
             [
              0.5555555555555556,
              "#d8576b"
             ],
             [
              0.6666666666666666,
              "#ed7953"
             ],
             [
              0.7777777777777778,
              "#fb9f3a"
             ],
             [
              0.8888888888888888,
              "#fdca26"
             ],
             [
              1.0,
              "#f0f921"
             ]
            ],
            "type": "contour"
           }
          ],
          "contourcarpet": [
           {
            "colorbar": {
             "outlinewidth": 0,
             "ticks": ""
            },
            "type": "contourcarpet"
           }
          ],
          "heatmap": [
           {
            "colorbar": {
             "outlinewidth": 0,
             "ticks": ""
            },
            "colorscale": [
             [
              0.0,
              "#0d0887"
             ],
             [
              0.1111111111111111,
              "#46039f"
             ],
             [
              0.2222222222222222,
              "#7201a8"
             ],
             [
              0.3333333333333333,
              "#9c179e"
             ],
             [
              0.4444444444444444,
              "#bd3786"
             ],
             [
              0.5555555555555556,
              "#d8576b"
             ],
             [
              0.6666666666666666,
              "#ed7953"
             ],
             [
              0.7777777777777778,
              "#fb9f3a"
             ],
             [
              0.8888888888888888,
              "#fdca26"
             ],
             [
              1.0,
              "#f0f921"
             ]
            ],
            "type": "heatmap"
           }
          ],
          "histogram": [
           {
            "marker": {
             "pattern": {
              "fillmode": "overlay",
              "size": 10,
              "solidity": 0.2
             }
            },
            "type": "histogram"
           }
          ],
          "histogram2d": [
           {
            "colorbar": {
             "outlinewidth": 0,
             "ticks": ""
            },
            "colorscale": [
             [
              0.0,
              "#0d0887"
             ],
             [
              0.1111111111111111,
              "#46039f"
             ],
             [
              0.2222222222222222,
              "#7201a8"
             ],
             [
              0.3333333333333333,
              "#9c179e"
             ],
             [
              0.4444444444444444,
              "#bd3786"
             ],
             [
              0.5555555555555556,
              "#d8576b"
             ],
             [
              0.6666666666666666,
              "#ed7953"
             ],
             [
              0.7777777777777778,
              "#fb9f3a"
             ],
             [
              0.8888888888888888,
              "#fdca26"
             ],
             [
              1.0,
              "#f0f921"
             ]
            ],
            "type": "histogram2d"
           }
          ],
          "histogram2dcontour": [
           {
            "colorbar": {
             "outlinewidth": 0,
             "ticks": ""
            },
            "colorscale": [
             [
              0.0,
              "#0d0887"
             ],
             [
              0.1111111111111111,
              "#46039f"
             ],
             [
              0.2222222222222222,
              "#7201a8"
             ],
             [
              0.3333333333333333,
              "#9c179e"
             ],
             [
              0.4444444444444444,
              "#bd3786"
             ],
             [
              0.5555555555555556,
              "#d8576b"
             ],
             [
              0.6666666666666666,
              "#ed7953"
             ],
             [
              0.7777777777777778,
              "#fb9f3a"
             ],
             [
              0.8888888888888888,
              "#fdca26"
             ],
             [
              1.0,
              "#f0f921"
             ]
            ],
            "type": "histogram2dcontour"
           }
          ],
          "mesh3d": [
           {
            "colorbar": {
             "outlinewidth": 0,
             "ticks": ""
            },
            "type": "mesh3d"
           }
          ],
          "parcoords": [
           {
            "line": {
             "colorbar": {
              "outlinewidth": 0,
              "ticks": ""
             }
            },
            "type": "parcoords"
           }
          ],
          "pie": [
           {
            "automargin": true,
            "type": "pie"
           }
          ],
          "scatter": [
           {
            "marker": {
             "line": {
              "color": "#283442"
             }
            },
            "type": "scatter"
           }
          ],
          "scatter3d": [
           {
            "line": {
             "colorbar": {
              "outlinewidth": 0,
              "ticks": ""
             }
            },
            "marker": {
             "colorbar": {
              "outlinewidth": 0,
              "ticks": ""
             }
            },
            "type": "scatter3d"
           }
          ],
          "scattercarpet": [
           {
            "marker": {
             "colorbar": {
              "outlinewidth": 0,
              "ticks": ""
             }
            },
            "type": "scattercarpet"
           }
          ],
          "scattergeo": [
           {
            "marker": {
             "colorbar": {
              "outlinewidth": 0,
              "ticks": ""
             }
            },
            "type": "scattergeo"
           }
          ],
          "scattergl": [
           {
            "marker": {
             "line": {
              "color": "#283442"
             }
            },
            "type": "scattergl"
           }
          ],
          "scattermap": [
           {
            "marker": {
             "colorbar": {
              "outlinewidth": 0,
              "ticks": ""
             }
            },
            "type": "scattermap"
           }
          ],
          "scattermapbox": [
           {
            "marker": {
             "colorbar": {
              "outlinewidth": 0,
              "ticks": ""
             }
            },
            "type": "scattermapbox"
           }
          ],
          "scatterpolar": [
           {
            "marker": {
             "colorbar": {
              "outlinewidth": 0,
              "ticks": ""
             }
            },
            "type": "scatterpolar"
           }
          ],
          "scatterpolargl": [
           {
            "marker": {
             "colorbar": {
              "outlinewidth": 0,
              "ticks": ""
             }
            },
            "type": "scatterpolargl"
           }
          ],
          "scatterternary": [
           {
            "marker": {
             "colorbar": {
              "outlinewidth": 0,
              "ticks": ""
             }
            },
            "type": "scatterternary"
           }
          ],
          "surface": [
           {
            "colorbar": {
             "outlinewidth": 0,
             "ticks": ""
            },
            "colorscale": [
             [
              0.0,
              "#0d0887"
             ],
             [
              0.1111111111111111,
              "#46039f"
             ],
             [
              0.2222222222222222,
              "#7201a8"
             ],
             [
              0.3333333333333333,
              "#9c179e"
             ],
             [
              0.4444444444444444,
              "#bd3786"
             ],
             [
              0.5555555555555556,
              "#d8576b"
             ],
             [
              0.6666666666666666,
              "#ed7953"
             ],
             [
              0.7777777777777778,
              "#fb9f3a"
             ],
             [
              0.8888888888888888,
              "#fdca26"
             ],
             [
              1.0,
              "#f0f921"
             ]
            ],
            "type": "surface"
           }
          ],
          "table": [
           {
            "cells": {
             "fill": {
              "color": "#506784"
             },
             "line": {
              "color": "rgb(17,17,17)"
             }
            },
            "header": {
             "fill": {
              "color": "#2a3f5f"
             },
             "line": {
              "color": "rgb(17,17,17)"
             }
            },
            "type": "table"
           }
          ]
         },
         "layout": {
          "annotationdefaults": {
           "arrowcolor": "#f2f5fa",
           "arrowhead": 0,
           "arrowwidth": 1
          },
          "autotypenumbers": "strict",
          "coloraxis": {
           "colorbar": {
            "outlinewidth": 0,
            "ticks": ""
           }
          },
          "colorscale": {
           "diverging": [
            [
             0,
             "#8e0152"
            ],
            [
             0.1,
             "#c51b7d"
            ],
            [
             0.2,
             "#de77ae"
            ],
            [
             0.3,
             "#f1b6da"
            ],
            [
             0.4,
             "#fde0ef"
            ],
            [
             0.5,
             "#f7f7f7"
            ],
            [
             0.6,
             "#e6f5d0"
            ],
            [
             0.7,
             "#b8e186"
            ],
            [
             0.8,
             "#7fbc41"
            ],
            [
             0.9,
             "#4d9221"
            ],
            [
             1,
             "#276419"
            ]
           ],
           "sequential": [
            [
             0.0,
             "#0d0887"
            ],
            [
             0.1111111111111111,
             "#46039f"
            ],
            [
             0.2222222222222222,
             "#7201a8"
            ],
            [
             0.3333333333333333,
             "#9c179e"
            ],
            [
             0.4444444444444444,
             "#bd3786"
            ],
            [
             0.5555555555555556,
             "#d8576b"
            ],
            [
             0.6666666666666666,
             "#ed7953"
            ],
            [
             0.7777777777777778,
             "#fb9f3a"
            ],
            [
             0.8888888888888888,
             "#fdca26"
            ],
            [
             1.0,
             "#f0f921"
            ]
           ],
           "sequentialminus": [
            [
             0.0,
             "#0d0887"
            ],
            [
             0.1111111111111111,
             "#46039f"
            ],
            [
             0.2222222222222222,
             "#7201a8"
            ],
            [
             0.3333333333333333,
             "#9c179e"
            ],
            [
             0.4444444444444444,
             "#bd3786"
            ],
            [
             0.5555555555555556,
             "#d8576b"
            ],
            [
             0.6666666666666666,
             "#ed7953"
            ],
            [
             0.7777777777777778,
             "#fb9f3a"
            ],
            [
             0.8888888888888888,
             "#fdca26"
            ],
            [
             1.0,
             "#f0f921"
            ]
           ]
          },
          "colorway": [
           "#636efa",
           "#EF553B",
           "#00cc96",
           "#ab63fa",
           "#FFA15A",
           "#19d3f3",
           "#FF6692",
           "#B6E880",
           "#FF97FF",
           "#FECB52"
          ],
          "font": {
           "color": "#f2f5fa"
          },
          "geo": {
           "bgcolor": "rgb(17,17,17)",
           "lakecolor": "rgb(17,17,17)",
           "landcolor": "rgb(17,17,17)",
           "showlakes": true,
           "showland": true,
           "subunitcolor": "#506784"
          },
          "hoverlabel": {
           "align": "left"
          },
          "hovermode": "closest",
          "mapbox": {
           "style": "dark"
          },
          "paper_bgcolor": "rgb(17,17,17)",
          "plot_bgcolor": "rgb(17,17,17)",
          "polar": {
           "angularaxis": {
            "gridcolor": "#506784",
            "linecolor": "#506784",
            "ticks": ""
           },
           "bgcolor": "rgb(17,17,17)",
           "radialaxis": {
            "gridcolor": "#506784",
            "linecolor": "#506784",
            "ticks": ""
           }
          },
          "scene": {
           "xaxis": {
            "backgroundcolor": "rgb(17,17,17)",
            "gridcolor": "#506784",
            "gridwidth": 2,
            "linecolor": "#506784",
            "showbackground": true,
            "ticks": "",
            "zerolinecolor": "#C8D4E3"
           },
           "yaxis": {
            "backgroundcolor": "rgb(17,17,17)",
            "gridcolor": "#506784",
            "gridwidth": 2,
            "linecolor": "#506784",
            "showbackground": true,
            "ticks": "",
            "zerolinecolor": "#C8D4E3"
           },
           "zaxis": {
            "backgroundcolor": "rgb(17,17,17)",
            "gridcolor": "#506784",
            "gridwidth": 2,
            "linecolor": "#506784",
            "showbackground": true,
            "ticks": "",
            "zerolinecolor": "#C8D4E3"
           }
          },
          "shapedefaults": {
           "line": {
            "color": "#f2f5fa"
           }
          },
          "sliderdefaults": {
           "bgcolor": "#C8D4E3",
           "bordercolor": "rgb(17,17,17)",
           "borderwidth": 1,
           "tickwidth": 0
          },
          "ternary": {
           "aaxis": {
            "gridcolor": "#506784",
            "linecolor": "#506784",
            "ticks": ""
           },
           "baxis": {
            "gridcolor": "#506784",
            "linecolor": "#506784",
            "ticks": ""
           },
           "bgcolor": "rgb(17,17,17)",
           "caxis": {
            "gridcolor": "#506784",
            "linecolor": "#506784",
            "ticks": ""
           }
          },
          "title": {
           "x": 0.05
          },
          "updatemenudefaults": {
           "bgcolor": "#506784",
           "borderwidth": 0
          },
          "xaxis": {
           "automargin": true,
           "gridcolor": "#283442",
           "linecolor": "#506784",
           "ticks": "",
           "title": {
            "standoff": 15
           },
           "zerolinecolor": "#283442",
           "zerolinewidth": 2
          },
          "yaxis": {
           "automargin": true,
           "gridcolor": "#283442",
           "linecolor": "#506784",
           "ticks": "",
           "title": {
            "standoff": 15
           },
           "zerolinecolor": "#283442",
           "zerolinewidth": 2
          }
         }
        },
        "title": {
         "text": "Baseline Model Results"
        },
        "width": 1200,
        "xaxis": {
         "anchor": "y",
         "domain": [
          0.0,
          0.45
         ],
         "title": {
          "text": "Actual Price"
         }
        },
        "xaxis2": {
         "anchor": "y2",
         "domain": [
          0.55,
          1.0
         ],
         "title": {
          "text": "Predicted Price"
         }
        },
        "yaxis": {
         "anchor": "x",
         "domain": [
          0.0,
          1.0
         ],
         "title": {
          "text": "Predicted Price"
         }
        },
        "yaxis2": {
         "anchor": "x2",
         "domain": [
          0.0,
          1.0
         ],
         "title": {
          "text": "Residuals"
         }
        }
       }
      }
     },
     "metadata": {},
     "output_type": "display_data"
    }
   ],
   "source": [
    "# Visualize predictions\n",
    "residuals = y_test - y_test_pred\n",
    "\n",
    "# Create subplots with plotly\n",
    "fig = make_subplots(rows=1, cols=2, subplot_titles=(\"Predictions vs Actual\", \"Residual Plot\"))\n",
    "\n",
    "# Left plot: Predictions vs Actual\n",
    "fig.add_trace(\n",
    "    go.Scatter(\n",
    "        x=y_test,\n",
    "        y=y_test_pred,\n",
    "        mode=\"markers\",\n",
    "        marker=dict(color=\"blue\", opacity=0.5),\n",
    "        name=\"Predictions\",\n",
    "    ),\n",
    "    row=1,\n",
    "    col=1,\n",
    ")\n",
    "\n",
    "# Add perfect prediction line\n",
    "min_val = y_test.min()\n",
    "max_val = y_test.max()\n",
    "fig.add_trace(\n",
    "    go.Scatter(\n",
    "        x=[min_val, max_val],\n",
    "        y=[min_val, max_val],\n",
    "        mode=\"lines\",\n",
    "        line=dict(color=\"red\", dash=\"dash\", width=2),\n",
    "        name=\"Perfect Prediction\",\n",
    "    ),\n",
    "    row=1,\n",
    "    col=1,\n",
    ")\n",
    "\n",
    "# Right plot: Residuals\n",
    "fig.add_trace(\n",
    "    go.Scatter(\n",
    "        x=y_test_pred,\n",
    "        y=residuals,\n",
    "        mode=\"markers\",\n",
    "        marker=dict(color=\"blue\", opacity=0.5),\n",
    "        name=\"Residuals\",\n",
    "    ),\n",
    "    row=1,\n",
    "    col=2,\n",
    ")\n",
    "\n",
    "# Add zero line\n",
    "fig.add_trace(\n",
    "    go.Scatter(\n",
    "        x=[y_test_pred.min(), y_test_pred.max()],\n",
    "        y=[0, 0],\n",
    "        mode=\"lines\",\n",
    "        line=dict(color=\"red\", dash=\"dash\", width=2),\n",
    "        name=\"Zero Line\",\n",
    "    ),\n",
    "    row=1,\n",
    "    col=2,\n",
    ")\n",
    "\n",
    "# Update axes labels\n",
    "fig.update_xaxes(title_text=\"Actual Price\", row=1, col=1)\n",
    "fig.update_yaxes(title_text=\"Predicted Price\", row=1, col=1)\n",
    "fig.update_xaxes(title_text=\"Predicted Price\", row=1, col=2)\n",
    "fig.update_yaxes(title_text=\"Residuals\", row=1, col=2)\n",
    "\n",
    "# Update layout\n",
    "fig.update_layout(height=500, width=1200, showlegend=True, title_text=\"Baseline Model Results\")\n",
    "\n",
    "fig.show()"
   ]
  },
  {
   "cell_type": "code",
   "execution_count": 38,
   "id": "becfc345259b45f1",
   "metadata": {
    "ExecuteTime": {
     "end_time": "2025-10-16T13:38:44.466811Z",
     "start_time": "2025-10-16T13:38:44.454322Z"
    }
   },
   "outputs": [
    {
     "name": "stdout",
     "output_type": "stream",
     "text": [
      "\n",
      "Overfitting Check:\n",
      "Train R²: 0.8071\n",
      "Test R²:  0.8231\n",
      "Difference: -0.0160\n",
      "✅ No significant overfitting\n"
     ]
    }
   ],
   "source": [
    "# Check for overfitting\n",
    "print(\"\\nOverfitting Check:\")\n",
    "print(f\"Train R²: {train_results[2]:.4f}\")\n",
    "print(f\"Test R²:  {test_results[2]:.4f}\")\n",
    "print(f\"Difference: {train_results[2] - test_results[2]:.4f}\")\n",
    "\n",
    "if train_results[2] - test_results[2] > 0.1:\n",
    "    print(\"⚠️  Possible overfitting detected!\")\n",
    "else:\n",
    "    print(\"✅ No significant overfitting\")"
   ]
  },
  {
   "cell_type": "code",
   "execution_count": 39,
   "id": "initial_id",
   "metadata": {
    "ExecuteTime": {
     "end_time": "2025-10-16T13:38:44.516791Z",
     "start_time": "2025-10-16T13:38:44.511119Z"
    }
   },
   "outputs": [
    {
     "name": "stdout",
     "output_type": "stream",
     "text": [
      "\n",
      "📊 BASELINE RESULTS:\n",
      "  model: LinearRegression\n",
      "  features: numerical_only\n",
      "  n_features: 36\n",
      "  train_mae: 21066.668643748908\n",
      "  test_mae: 22975.856509153044\n",
      "  train_r2: 0.8070976808213148\n",
      "  test_r2: 0.8230899421141546\n"
     ]
    }
   ],
   "source": [
    "# Save results for comparison\n",
    "results = {\n",
    "    \"model\": \"LinearRegression\",\n",
    "    \"features\": \"numerical_only\",\n",
    "    \"n_features\": len(numerical_cols),\n",
    "    \"train_mae\": train_results[0],\n",
    "    \"test_mae\": test_results[0],\n",
    "    \"train_r2\": train_results[2],\n",
    "    \"test_r2\": test_results[2],\n",
    "}\n",
    "\n",
    "print(\"\\n📊 BASELINE RESULTS:\")\n",
    "for key, value in results.items():\n",
    "    print(f\"  {key}: {value}\")"
   ]
  }
 ],
 "metadata": {
  "kernelspec": {
   "display_name": "Python 3",
   "language": "python",
   "name": "python3"
  },
  "language_info": {
   "codemirror_mode": {
    "name": "ipython",
    "version": 2
   },
   "file_extension": ".py",
   "mimetype": "text/x-python",
   "name": "python",
   "nbconvert_exporter": "python",
   "pygments_lexer": "ipython2",
   "version": "2.7.6"
  }
 },
 "nbformat": 4,
 "nbformat_minor": 5
}
